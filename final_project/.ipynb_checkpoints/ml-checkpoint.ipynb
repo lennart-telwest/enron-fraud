{
 "cells": [
  {
   "cell_type": "markdown",
   "metadata": {},
   "source": [
    "# Enron Fraud"
   ]
  },
  {
   "cell_type": "markdown",
   "metadata": {},
   "source": [
    "### Initital Load\n",
    "#### Import packages:"
   ]
  },
  {
   "cell_type": "code",
   "execution_count": 37,
   "metadata": {
    "collapsed": false
   },
   "outputs": [],
   "source": [
    "import sys\n",
    "import pickle\n",
    "import numpy as np\n",
    "from pandas import DataFrame\n",
    "from sklearn.pipeline import make_pipeline\n",
    "from sklearn.preprocessing import Imputer\n",
    "from sklearn.ensemble import ExtraTreesClassifier\n",
    "import seaborn as sns\n",
    "import matplotlib.pyplot as plt\n",
    "sys.path.append(\"../tools/\")\n",
    "\n",
    "from feature_format import featureFormat, targetFeatureSplit\n",
    "from tester import dump_classifier_and_data"
   ]
  },
  {
   "cell_type": "markdown",
   "metadata": {},
   "source": [
    "#### Load dataset and create dataframe"
   ]
  },
  {
   "cell_type": "code",
   "execution_count": 20,
   "metadata": {
    "collapsed": false
   },
   "outputs": [],
   "source": [
    "features_email = ['to_messages', 'from_messages',  'from_poi_to_this_person',\n",
    "           'from_this_person_to_poi', 'shared_receipt_with_poi']\n",
    "# finance data\n",
    "features_finance = ['salary', 'bonus', 'long_term_incentive', 'deferred_income',\n",
    "             'deferral_payments', 'loan_advances', 'other', 'expenses',\n",
    "             'director_fees', 'total_payments',\n",
    "             'exercised_stock_options', 'restricted_stock',\n",
    "             'restricted_stock_deferred', 'total_stock_value']\n",
    "# all features\n",
    "features_list = features_email + features_finance\n",
    "# all features column names\n",
    "features_column_names = ['poi'] + ['email_address'] + features_email + features_finance\n",
    "# all features data type\n",
    "features_dtype = [bool] + [str] + list(np.repeat(float, 19))\n",
    "\n",
    "### Load the dictionary containing the dataset\n",
    "with open(\"final_project_dataset.pkl\", \"r\") as data_file:\n",
    "    data_dict = pickle.load(data_file)\n",
    "\n",
    "# converting the data into a data frame\n",
    "df = DataFrame.from_dict(data_dict, orient='index')\n",
    "\n",
    "# reordering the columns\n",
    "df = df.loc[:, features_column_names]\n",
    "\n",
    "# converting the data type\n",
    "for i in xrange(len(features_column_names)):\n",
    "    df[features_column_names[i]] = df[features_column_names[i]].astype(features_dtype[i], errors='ignore')"
   ]
  },
  {
   "cell_type": "markdown",
   "metadata": {},
   "source": [
    "### Descriptive analysis & wrangling of dataset"
   ]
  },
  {
   "cell_type": "markdown",
   "metadata": {},
   "source": [
    "#### Replace invalid datapoints"
   ]
  },
  {
   "cell_type": "code",
   "execution_count": 31,
   "metadata": {
    "collapsed": true
   },
   "outputs": [],
   "source": [
    "# Remove invalid data points that were discovered during the EDA in the course\n",
    "df = df[df.index != 'TOTAL']\n",
    "df = df[df.index != 'THE TRAVEL AGENCY IN THE PARK']"
   ]
  },
  {
   "cell_type": "markdown",
   "metadata": {},
   "source": [
    "#### Shape of the table:"
   ]
  },
  {
   "cell_type": "code",
   "execution_count": 32,
   "metadata": {
    "collapsed": false
   },
   "outputs": [
    {
     "data": {
      "text/plain": [
       "(144, 24)"
      ]
     },
     "execution_count": 32,
     "metadata": {},
     "output_type": "execute_result"
    }
   ],
   "source": [
    "#Dataset Shape:\n",
    "df.shape"
   ]
  },
  {
   "cell_type": "markdown",
   "metadata": {},
   "source": [
    "#### Share of null values per feature:"
   ]
  },
  {
   "cell_type": "code",
   "execution_count": 33,
   "metadata": {
    "collapsed": false
   },
   "outputs": [
    {
     "name": "stdout",
     "output_type": "stream",
     "text": [
      "poi                              0.000000\n",
      "email_address                    0.000000\n",
      "to_messages                      0.402778\n",
      "from_messages                    0.402778\n",
      "from_poi_to_this_person          0.402778\n",
      "from_this_person_to_poi          0.402778\n",
      "shared_receipt_with_poi          0.402778\n",
      "salary                           0.000000\n",
      "bonus                            0.000000\n",
      "long_term_incentive              0.000000\n",
      "deferred_income                  0.000000\n",
      "deferral_payments                0.000000\n",
      "loan_advances                    0.000000\n",
      "other                            0.000000\n",
      "expenses                         0.000000\n",
      "director_fees                    0.000000\n",
      "total_payments                   0.000000\n",
      "exercised_stock_options          0.000000\n",
      "restricted_stock                 0.000000\n",
      "restricted_stock_deferred        0.000000\n",
      "total_stock_value                0.000000\n",
      "recieved_from_poi_ratio          0.402778\n",
      "sent_to_poi_ratio                0.402778\n",
      "shared_receipt_with_poi_ratio    0.402778\n",
      "dtype: float64\n"
     ]
    }
   ],
   "source": [
    "print df.isnull().sum() / df.shape[0]"
   ]
  },
  {
   "cell_type": "markdown",
   "metadata": {},
   "source": [
    "#### Positional Parameters for further analysis of outliers\n",
    "Defined as outliers above Q3 + 1.5 IQR and Q3 + 3 IQR, respectively."
   ]
  },
  {
   "cell_type": "code",
   "execution_count": 34,
   "metadata": {
    "collapsed": false
   },
   "outputs": [
    {
     "name": "stdout",
     "output_type": "stream",
     "text": [
      "        to_messages  from_messages  from_poi_to_this_person  \\\n",
      "count     86.000000      86.000000                86.000000   \n",
      "mean    2073.860465     608.790698                64.895349   \n",
      "std     2582.700981    1841.033949                86.979244   \n",
      "min       57.000000      12.000000                 0.000000   \n",
      "25%      541.250000      22.750000                10.000000   \n",
      "50%     1211.000000      41.000000                35.000000   \n",
      "75%     2634.750000     145.500000                72.250000   \n",
      "max    15149.000000   14368.000000               528.000000   \n",
      "\n",
      "       from_this_person_to_poi  shared_receipt_with_poi        salary  \\\n",
      "count                86.000000                86.000000  1.440000e+02   \n",
      "mean                 41.232558              1176.465116  1.854460e+05   \n",
      "std                 100.073111              1178.317641  1.970421e+05   \n",
      "min                   0.000000                 2.000000  0.000000e+00   \n",
      "25%                   1.000000               249.750000  0.000000e+00   \n",
      "50%                   8.000000               740.500000  2.105960e+05   \n",
      "75%                  24.750000              1888.250000  2.696675e+05   \n",
      "max                 609.000000              5521.000000  1.111258e+06   \n",
      "\n",
      "              bonus  long_term_incentive  deferred_income  deferral_payments  \\\n",
      "count  1.440000e+02         1.440000e+02     1.440000e+02       1.440000e+02   \n",
      "mean   6.759974e+05         3.369578e+05    -1.936833e+05       2.220896e+05   \n",
      "std    1.233155e+06         6.871826e+05     6.060111e+05       7.541013e+05   \n",
      "min    0.000000e+00         0.000000e+00    -3.504386e+06      -1.025000e+05   \n",
      "25%    0.000000e+00         0.000000e+00    -3.708600e+04       0.000000e+00   \n",
      "50%    3.000000e+05         0.000000e+00     0.000000e+00       0.000000e+00   \n",
      "75%    8.000000e+05         3.745862e+05     0.000000e+00       8.535500e+03   \n",
      "max    8.000000e+06         5.145434e+06     0.000000e+00       6.426990e+06   \n",
      "\n",
      "                   ...                     expenses  director_fees  \\\n",
      "count              ...                   144.000000     144.000000   \n",
      "mean               ...                 35375.340278    9980.319444   \n",
      "std                ...                 45309.303038   31300.575144   \n",
      "min                ...                     0.000000       0.000000   \n",
      "25%                ...                     0.000000       0.000000   \n",
      "50%                ...                 20182.000000       0.000000   \n",
      "75%                ...                 53328.250000       0.000000   \n",
      "max                ...                228763.000000  137864.000000   \n",
      "\n",
      "       total_payments  exercised_stock_options  restricted_stock  \\\n",
      "count    1.440000e+02             1.440000e+02      1.440000e+02   \n",
      "mean     2.256543e+06             2.075802e+06      8.685363e+05   \n",
      "std      8.847189e+06             4.795513e+06      2.016572e+06   \n",
      "min      0.000000e+00             0.000000e+00     -2.604490e+06   \n",
      "25%      9.019275e+04             0.000000e+00      2.434500e+04   \n",
      "50%      9.413595e+05             6.082935e+05      3.605280e+05   \n",
      "75%      1.945668e+06             1.683580e+06      7.374560e+05   \n",
      "max      1.035598e+08             3.434838e+07      1.476169e+07   \n",
      "\n",
      "       restricted_stock_deferred  total_stock_value  recieved_from_poi_ratio  \\\n",
      "count               1.440000e+02       1.440000e+02                86.000000   \n",
      "mean                7.341790e+04       2.909786e+06                 0.037963   \n",
      "std                 1.301983e+06       6.189018e+06                 0.040544   \n",
      "min                -1.787380e+06      -4.409300e+04                 0.000000   \n",
      "25%                 0.000000e+00       2.443265e+05                 0.009200   \n",
      "50%                 0.000000e+00       9.659550e+05                 0.025845   \n",
      "75%                 0.000000e+00       2.295176e+06                 0.056089   \n",
      "max                 1.545629e+07       4.911008e+07                 0.217341   \n",
      "\n",
      "       sent_to_poi_ratio  shared_receipt_with_poi_ratio  \n",
      "count          86.000000                      86.000000  \n",
      "mean            0.184055                       0.609058  \n",
      "std             0.210610                       0.287300  \n",
      "min             0.000000                       0.018377  \n",
      "25%             0.012421                       0.413779  \n",
      "50%             0.100574                       0.661044  \n",
      "75%             0.272039                       0.841199  \n",
      "max             1.000000                       1.001145  \n",
      "\n",
      "[8 rows x 22 columns]\n"
     ]
    }
   ],
   "source": [
    "print df.describe()"
   ]
  },
  {
   "cell_type": "markdown",
   "metadata": {},
   "source": [
    "#### Correlation coefficients:"
   ]
  },
  {
   "cell_type": "code",
   "execution_count": 35,
   "metadata": {
    "collapsed": false
   },
   "outputs": [
    {
     "name": "stdout",
     "output_type": "stream",
     "text": [
      "                                    poi  to_messages  from_messages  \\\n",
      "poi                            1.000000     0.058954      -0.074308   \n",
      "to_messages                    0.058954     1.000000       0.475450   \n",
      "from_messages                 -0.074308     0.475450       1.000000   \n",
      "from_poi_to_this_person        0.167722     0.525667       0.186708   \n",
      "from_this_person_to_poi        0.112940     0.568506       0.588687   \n",
      "shared_receipt_with_poi        0.228313     0.847990       0.230855   \n",
      "salary                         0.340120     0.299270       0.080212   \n",
      "bonus                          0.359381     0.451249       0.118990   \n",
      "long_term_incentive            0.257361     0.128052       0.016347   \n",
      "deferred_income               -0.274762    -0.071725       0.014023   \n",
      "deferral_payments             -0.039067     0.068668      -0.000588   \n",
      "loan_advances                  0.220295     0.093903      -0.034957   \n",
      "other                          0.170395     0.084481      -0.074146   \n",
      "expenses                       0.205077     0.267677       0.169761   \n",
      "director_fees                 -0.120936    -0.072657      -0.038491   \n",
      "total_payments                 0.242521     0.150050      -0.021515   \n",
      "exercised_stock_options        0.387553     0.098589      -0.040994   \n",
      "restricted_stock               0.248509     0.224225       0.022750   \n",
      "restricted_stock_deferred     -0.021388    -0.062680      -0.035935   \n",
      "total_stock_value              0.383382     0.139523      -0.024354   \n",
      "recieved_from_poi_ratio        0.104406    -0.133672      -0.130654   \n",
      "sent_to_poi_ratio              0.339938    -0.126446      -0.184793   \n",
      "shared_receipt_with_poi_ratio  0.265225    -0.118133      -0.263854   \n",
      "\n",
      "                               from_poi_to_this_person  \\\n",
      "poi                                           0.167722   \n",
      "to_messages                                   0.525667   \n",
      "from_messages                                 0.186708   \n",
      "from_poi_to_this_person                       1.000000   \n",
      "from_this_person_to_poi                       0.445063   \n",
      "shared_receipt_with_poi                       0.659264   \n",
      "salary                                        0.322097   \n",
      "bonus                                         0.598790   \n",
      "long_term_incentive                           0.224743   \n",
      "deferred_income                              -0.160251   \n",
      "deferral_payments                             0.177969   \n",
      "loan_advances                                 0.077979   \n",
      "other                                         0.147687   \n",
      "expenses                                      0.133585   \n",
      "director_fees                                -0.091137   \n",
      "total_payments                                0.172665   \n",
      "exercised_stock_options                       0.155517   \n",
      "restricted_stock                              0.170404   \n",
      "restricted_stock_deferred                    -0.081110   \n",
      "total_stock_value                             0.165445   \n",
      "recieved_from_poi_ratio                       0.468983   \n",
      "sent_to_poi_ratio                             0.062690   \n",
      "shared_receipt_with_poi_ratio                 0.137895   \n",
      "\n",
      "                               from_this_person_to_poi  \\\n",
      "poi                                           0.112940   \n",
      "to_messages                                   0.568506   \n",
      "from_messages                                 0.588687   \n",
      "from_poi_to_this_person                       0.445063   \n",
      "from_this_person_to_poi                       1.000000   \n",
      "shared_receipt_with_poi                       0.475748   \n",
      "salary                                        0.136181   \n",
      "bonus                                         0.407812   \n",
      "long_term_incentive                           0.122644   \n",
      "deferred_income                               0.031958   \n",
      "deferral_payments                            -0.036562   \n",
      "loan_advances                                -0.028673   \n",
      "other                                        -0.073424   \n",
      "expenses                                      0.135806   \n",
      "director_fees                                -0.049246   \n",
      "total_payments                                0.026649   \n",
      "exercised_stock_options                      -0.009431   \n",
      "restricted_stock                              0.073191   \n",
      "restricted_stock_deferred                    -0.039266   \n",
      "total_stock_value                             0.015462   \n",
      "recieved_from_poi_ratio                      -0.052852   \n",
      "sent_to_poi_ratio                            -0.046771   \n",
      "shared_receipt_with_poi_ratio                -0.101448   \n",
      "\n",
      "                               shared_receipt_with_poi    salary     bonus  \\\n",
      "poi                                           0.228313  0.340120  0.359381   \n",
      "to_messages                                   0.847990  0.299270  0.451249   \n",
      "from_messages                                 0.230855  0.080212  0.118990   \n",
      "from_poi_to_this_person                       0.659264  0.322097  0.598790   \n",
      "from_this_person_to_poi                       0.475748  0.136181  0.407812   \n",
      "shared_receipt_with_poi                       1.000000  0.434901  0.627776   \n",
      "salary                                        0.434901  1.000000  0.649638   \n",
      "bonus                                         0.627776  0.649638  1.000000   \n",
      "long_term_incentive                           0.228975  0.560365  0.497976   \n",
      "deferred_income                              -0.205403 -0.330234 -0.331749   \n",
      "deferral_payments                             0.163469  0.243606  0.174695   \n",
      "loan_advances                                 0.118201  0.387788  0.432387   \n",
      "other                                         0.173525  0.544682  0.383661   \n",
      "expenses                                      0.334284  0.361433  0.246103   \n",
      "director_fees                                -0.079228 -0.302188 -0.176013   \n",
      "total_payments                                0.212238  0.511293  0.559795   \n",
      "exercised_stock_options                       0.161150  0.449913  0.416768   \n",
      "restricted_stock                              0.267249  0.538745  0.423974   \n",
      "restricted_stock_deferred                    -0.064028 -0.088530 -0.043203   \n",
      "total_stock_value                             0.198460  0.522061  0.461615   \n",
      "recieved_from_poi_ratio                      -0.036665  0.086446  0.040202   \n",
      "sent_to_poi_ratio                             0.037625  0.167417  0.132444   \n",
      "shared_receipt_with_poi_ratio                 0.232536  0.246949  0.128653   \n",
      "\n",
      "                               long_term_incentive  deferred_income  \\\n",
      "poi                                       0.257361        -0.274762   \n",
      "to_messages                               0.128052        -0.071725   \n",
      "from_messages                             0.016347         0.014023   \n",
      "from_poi_to_this_person                   0.224743        -0.160251   \n",
      "from_this_person_to_poi                   0.122644         0.031958   \n",
      "shared_receipt_with_poi                   0.228975        -0.205403   \n",
      "salary                                    0.560365        -0.330234   \n",
      "bonus                                     0.497976        -0.331749   \n",
      "long_term_incentive                       1.000000        -0.296561   \n",
      "deferred_income                          -0.296561         1.000000   \n",
      "deferral_payments                         0.119952        -0.543416   \n",
      "loan_advances                             0.402060        -0.025368   \n",
      "other                                     0.534931        -0.265704   \n",
      "expenses                                  0.097898        -0.041638   \n",
      "director_fees                            -0.157443         0.075776   \n",
      "total_payments                            0.520634        -0.103969   \n",
      "exercised_stock_options                   0.399428        -0.268771   \n",
      "restricted_stock                          0.343119        -0.126487   \n",
      "restricted_stock_deferred                -0.038816         0.047843   \n",
      "total_stock_value                         0.421741        -0.245018   \n",
      "recieved_from_poi_ratio                  -0.005620        -0.054688   \n",
      "sent_to_poi_ratio                         0.081604        -0.106454   \n",
      "shared_receipt_with_poi_ratio             0.091419        -0.210724   \n",
      "\n",
      "                                           ...                expenses  \\\n",
      "poi                                        ...                0.205077   \n",
      "to_messages                                ...                0.267677   \n",
      "from_messages                              ...                0.169761   \n",
      "from_poi_to_this_person                    ...                0.133585   \n",
      "from_this_person_to_poi                    ...                0.135806   \n",
      "shared_receipt_with_poi                    ...                0.334284   \n",
      "salary                                     ...                0.361433   \n",
      "bonus                                      ...                0.246103   \n",
      "long_term_incentive                        ...                0.097898   \n",
      "deferred_income                            ...               -0.041638   \n",
      "deferral_payments                          ...               -0.020135   \n",
      "loan_advances                              ...                0.121677   \n",
      "other                                      ...                0.138877   \n",
      "expenses                                   ...                1.000000   \n",
      "director_fees                              ...               -0.137513   \n",
      "total_payments                             ...                0.151734   \n",
      "exercised_stock_options                    ...                0.122628   \n",
      "restricted_stock                           ...                0.181428   \n",
      "restricted_stock_deferred                  ...               -0.067539   \n",
      "total_stock_value                          ...                0.153640   \n",
      "recieved_from_poi_ratio                    ...                0.043359   \n",
      "sent_to_poi_ratio                          ...                0.014339   \n",
      "shared_receipt_with_poi_ratio              ...                0.260762   \n",
      "\n",
      "                               director_fees  total_payments  \\\n",
      "poi                                -0.120936        0.242521   \n",
      "to_messages                        -0.072657        0.150050   \n",
      "from_messages                      -0.038491       -0.021515   \n",
      "from_poi_to_this_person            -0.091137        0.172665   \n",
      "from_this_person_to_poi            -0.049246        0.026649   \n",
      "shared_receipt_with_poi            -0.079228        0.212238   \n",
      "salary                             -0.302188        0.511293   \n",
      "bonus                              -0.176013        0.559795   \n",
      "long_term_incentive                -0.157443        0.520634   \n",
      "deferred_income                     0.075776       -0.103969   \n",
      "deferral_payments                  -0.094662        0.141531   \n",
      "loan_advances                      -0.027542        0.964214   \n",
      "other                              -0.079899        0.830184   \n",
      "expenses                           -0.137513        0.151734   \n",
      "director_fees                       1.000000       -0.025916   \n",
      "total_payments                     -0.025916        1.000000   \n",
      "exercised_stock_options            -0.116130        0.598971   \n",
      "restricted_stock                   -0.177185        0.603826   \n",
      "restricted_stock_deferred           0.346193        0.127653   \n",
      "total_stock_value                  -0.146217        0.661677   \n",
      "recieved_from_poi_ratio            -0.114374       -0.023447   \n",
      "sent_to_poi_ratio                  -0.089003        0.137240   \n",
      "shared_receipt_with_poi_ratio       0.075924        0.030824   \n",
      "\n",
      "                               exercised_stock_options  restricted_stock  \\\n",
      "poi                                           0.387553          0.248509   \n",
      "to_messages                                   0.098589          0.224225   \n",
      "from_messages                                -0.040994          0.022750   \n",
      "from_poi_to_this_person                       0.155517          0.170404   \n",
      "from_this_person_to_poi                      -0.009431          0.073191   \n",
      "shared_receipt_with_poi                       0.161150          0.267249   \n",
      "salary                                        0.449913          0.538745   \n",
      "bonus                                         0.416768          0.423974   \n",
      "long_term_incentive                           0.399428          0.343119   \n",
      "deferred_income                              -0.268771         -0.126487   \n",
      "deferral_payments                             0.117976          0.088614   \n",
      "loan_advances                                 0.568086          0.581289   \n",
      "other                                         0.550851          0.635038   \n",
      "expenses                                      0.122628          0.181428   \n",
      "director_fees                                -0.116130         -0.177185   \n",
      "total_payments                                0.598971          0.603826   \n",
      "exercised_stock_options                       1.000000          0.587479   \n",
      "restricted_stock                              0.587479          1.000000   \n",
      "restricted_stock_deferred                    -0.002181         -0.145452   \n",
      "total_stock_value                             0.963921          0.780558   \n",
      "recieved_from_poi_ratio                       0.007280         -0.020271   \n",
      "sent_to_poi_ratio                             0.133497          0.158056   \n",
      "shared_receipt_with_poi_ratio                 0.073181          0.062563   \n",
      "\n",
      "                               restricted_stock_deferred  total_stock_value  \\\n",
      "poi                                            -0.021388           0.383382   \n",
      "to_messages                                    -0.062680           0.139523   \n",
      "from_messages                                  -0.035935          -0.024354   \n",
      "from_poi_to_this_person                        -0.081110           0.165445   \n",
      "from_this_person_to_poi                        -0.039266           0.015462   \n",
      "shared_receipt_with_poi                        -0.064028           0.198460   \n",
      "salary                                         -0.088530           0.522061   \n",
      "bonus                                          -0.043203           0.461615   \n",
      "long_term_incentive                            -0.038816           0.421741   \n",
      "deferred_income                                 0.047843          -0.245018   \n",
      "deferral_payments                              -0.030387           0.119082   \n",
      "loan_advances                                  -0.004871           0.630061   \n",
      "other                                          -0.007261           0.634659   \n",
      "expenses                                       -0.067539           0.153640   \n",
      "director_fees                                   0.346193          -0.146217   \n",
      "total_payments                                  0.127653           0.661677   \n",
      "exercised_stock_options                        -0.002181           0.963921   \n",
      "restricted_stock                               -0.145452           0.780558   \n",
      "restricted_stock_deferred                       1.000000          -0.045049   \n",
      "total_stock_value                              -0.045049           1.000000   \n",
      "recieved_from_poi_ratio                        -0.105050          -0.001537   \n",
      "sent_to_poi_ratio                              -0.064648           0.148699   \n",
      "shared_receipt_with_poi_ratio                   0.100979           0.072037   \n",
      "\n",
      "                               recieved_from_poi_ratio  sent_to_poi_ratio  \\\n",
      "poi                                           0.104406           0.339938   \n",
      "to_messages                                  -0.133672          -0.126446   \n",
      "from_messages                                -0.130654          -0.184793   \n",
      "from_poi_to_this_person                       0.468983           0.062690   \n",
      "from_this_person_to_poi                      -0.052852          -0.046771   \n",
      "shared_receipt_with_poi                      -0.036665           0.037625   \n",
      "salary                                        0.086446           0.167417   \n",
      "bonus                                         0.040202           0.132444   \n",
      "long_term_incentive                          -0.005620           0.081604   \n",
      "deferred_income                              -0.054688          -0.106454   \n",
      "deferral_payments                             0.054642           0.076290   \n",
      "loan_advances                                -0.022723           0.135717   \n",
      "other                                         0.011526           0.139554   \n",
      "expenses                                      0.043359           0.014339   \n",
      "director_fees                                -0.114374          -0.089003   \n",
      "total_payments                               -0.023447           0.137240   \n",
      "exercised_stock_options                       0.007280           0.133497   \n",
      "restricted_stock                             -0.020271           0.158056   \n",
      "restricted_stock_deferred                    -0.105050          -0.064648   \n",
      "total_stock_value                            -0.001537           0.148699   \n",
      "recieved_from_poi_ratio                       1.000000           0.318313   \n",
      "sent_to_poi_ratio                             0.318313           1.000000   \n",
      "shared_receipt_with_poi_ratio                 0.344220           0.561406   \n",
      "\n",
      "                               shared_receipt_with_poi_ratio  \n",
      "poi                                                 0.265225  \n",
      "to_messages                                        -0.118133  \n",
      "from_messages                                      -0.263854  \n",
      "from_poi_to_this_person                             0.137895  \n",
      "from_this_person_to_poi                            -0.101448  \n",
      "shared_receipt_with_poi                             0.232536  \n",
      "salary                                              0.246949  \n",
      "bonus                                               0.128653  \n",
      "long_term_incentive                                 0.091419  \n",
      "deferred_income                                    -0.210724  \n",
      "deferral_payments                                   0.046931  \n",
      "loan_advances                                      -0.013844  \n",
      "other                                               0.057196  \n",
      "expenses                                            0.260762  \n",
      "director_fees                                       0.075924  \n",
      "total_payments                                      0.030824  \n",
      "exercised_stock_options                             0.073181  \n",
      "restricted_stock                                    0.062563  \n",
      "restricted_stock_deferred                           0.100979  \n",
      "total_stock_value                                   0.072037  \n",
      "recieved_from_poi_ratio                             0.344220  \n",
      "sent_to_poi_ratio                                   0.561406  \n",
      "shared_receipt_with_poi_ratio                       1.000000  \n",
      "\n",
      "[23 rows x 23 columns]\n"
     ]
    }
   ],
   "source": [
    "print df.corr()"
   ]
  },
  {
   "cell_type": "markdown",
   "metadata": {},
   "source": [
    "### Feature engineering:\n",
    "#### Ratio of email & receipt sharing with poi's"
   ]
  },
  {
   "cell_type": "code",
   "execution_count": 36,
   "metadata": {
    "collapsed": true
   },
   "outputs": [],
   "source": [
    "# calculate ratio\n",
    "df['recieved_from_poi_ratio'] = df['from_poi_to_this_person'] / df['to_messages']\n",
    "df['sent_to_poi_ratio'] = df['from_this_person_to_poi'] / df['from_messages']\n",
    "df['shared_receipt_with_poi_ratio'] = df['shared_receipt_with_poi'] / df['to_messages']\n",
    "# add labels to df\n",
    "features_email_new = ['recieved_from_poi_ratio', 'sent_to_poi_ratio', 'shared_receipt_with_poi_ratio']\n",
    "features_all = features_list + features_email_new"
   ]
  },
  {
   "cell_type": "markdown",
   "metadata": {},
   "source": [
    "## References\n",
    "1. Scikit-learn: How to obtain True Positive, True Negative, False Positive and False Negative - https://stackoverflow.com/questions/31324218/scikit-learn-how-to-obtain-true-positive-true-negative-false-positive-and-fal\n",
    "2. GitHub: watanabe8760/uda-da-p5-enron-fraud-detection - https://github.com/watanabe8760/uda-da-p5-enron-fraud-detection\n",
    "3. Interquartile range - https://en.wikipedia.org/wiki/Interquartile_range\n",
    "4. stackoverflow: Pandas: Replacement for .ix  - https://stackoverflow.com/questions/43838999/pandas-replacement-for-ix\n",
    "5. GitHub: Markdown Cheatsheet - https://github.com/adam-p/markdown-here/wiki/Markdown-Cheatsheet\n"
   ]
  }
 ],
 "metadata": {
  "kernelspec": {
   "display_name": "Python 2",
   "language": "python",
   "name": "python2"
  },
  "language_info": {
   "codemirror_mode": {
    "name": "ipython",
    "version": 2
   },
   "file_extension": ".py",
   "mimetype": "text/x-python",
   "name": "python",
   "nbconvert_exporter": "python",
   "pygments_lexer": "ipython2",
   "version": "2.7.13"
  }
 },
 "nbformat": 4,
 "nbformat_minor": 2
}
