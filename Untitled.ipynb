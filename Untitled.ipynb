{
 "cells": [
  {
   "cell_type": "code",
   "execution_count": 2,
   "metadata": {
    "collapsed": false
   },
   "outputs": [
    {
     "ename": "ImportError",
     "evalue": "No module named numpy",
     "output_type": "error",
     "traceback": [
      "\u001b[0;31m---------------------------------------------------------------------------\u001b[0m",
      "\u001b[0;31mImportError\u001b[0m                               Traceback (most recent call last)",
      "\u001b[0;32m<ipython-input-2-7994dcd99c54>\u001b[0m in \u001b[0;36m<module>\u001b[0;34m()\u001b[0m\n\u001b[1;32m      1\u001b[0m \u001b[0;32mimport\u001b[0m \u001b[0msys\u001b[0m\u001b[0;34m\u001b[0m\u001b[0m\n\u001b[1;32m      2\u001b[0m \u001b[0;32mimport\u001b[0m \u001b[0mpickle\u001b[0m\u001b[0;34m\u001b[0m\u001b[0m\n\u001b[0;32m----> 3\u001b[0;31m \u001b[0;32mimport\u001b[0m \u001b[0mnumpy\u001b[0m \u001b[0;32mas\u001b[0m \u001b[0mnp\u001b[0m\u001b[0;34m\u001b[0m\u001b[0m\n\u001b[0m\u001b[1;32m      4\u001b[0m \u001b[0;32mfrom\u001b[0m \u001b[0mpandas\u001b[0m \u001b[0;32mimport\u001b[0m \u001b[0mDataFrame\u001b[0m\u001b[0;34m\u001b[0m\u001b[0m\n\u001b[1;32m      5\u001b[0m \u001b[0;32mfrom\u001b[0m \u001b[0msklearn\u001b[0m\u001b[0;34m.\u001b[0m\u001b[0mpipeline\u001b[0m \u001b[0;32mimport\u001b[0m \u001b[0mmake_pipeline\u001b[0m\u001b[0;34m\u001b[0m\u001b[0m\n",
      "\u001b[0;31mImportError\u001b[0m: No module named numpy"
     ]
    }
   ],
   "source": [
    "import sys\n",
    "import pickle\n",
    "import numpy as np\n",
    "from pandas import DataFrame\n",
    "from sklearn.pipeline import make_pipeline\n",
    "from sklearn.preprocessing import Imputer\n",
    "from sklearn.ensemble import ExtraTreesClassifier\n",
    "sys.path.append(\"/Users/lt/git/enron-fraud/final_project/tools/\")\n",
    "from feature_format import featureFormat, targetFeatureSplit\n",
    "from tester import dump_classifier_and_data"
   ]
  },
  {
   "cell_type": "code",
   "execution_count": null,
   "metadata": {
    "collapsed": true
   },
   "outputs": [],
   "source": [
    "# Task 1: Selecting the features that will be used.\n",
    "\n",
    "# email data\n",
    "features_email = ['to_messages', 'from_messages',  'from_poi_to_this_person',\n",
    "           'from_this_person_to_poi', 'shared_receipt_with_poi']\n",
    "\n",
    "# finance data\n",
    "features_finance = ['salary', 'bonus', 'long_term_incentive', 'deferred_income',\n",
    "             'deferral_payments', 'loan_advances', 'other', 'expenses',\n",
    "             'director_fees', 'total_payments',\n",
    "             'exercised_stock_options', 'restricted_stock',\n",
    "             'restricted_stock_deferred', 'total_stock_value']\n",
    "\n",
    "# all features\n",
    "features_list = features_email + features_finance\n",
    "\n",
    "# all features column names\n",
    "features_column_names = ['poi'] + ['email_address'] + features_email + features_finance\n",
    "\n",
    "# all features data type\n",
    "features_dtype = [bool] + [str] + list(np.repeat(float, 19))\n",
    "\n",
    "# Load dataset to dict\n",
    "with open(\"final_project_dataset.pkl\", \"rb\") as data_file:\n",
    "    data_dict = pickle.load(data_file)\n",
    "    \n",
    "# Convert dict to df\n",
    "df = DataFrame.from_dict(data_dict, orient='index')\n",
    "\n",
    "# Reorder columns\n",
    "df = df.ix[:, COLUMNS]\n",
    "\n",
    "# Convert data type\n",
    "for i in xrange(len(COLUMNS)):\n",
    "    df[COLUMNS[i]] = df[COLUMNS[i]].astype(DTYPE[i], raise_on_error=False)\n",
    "    \n",
    "# Assign 0 to NaN in finance features\n",
    "# (Assuming that \"-\" in enron61702insiderpay.pdf means 0.)\n",
    "for f in F_FINANCE:\n",
    "    df.iloc[df[f].isnull(), f] = 0"
   ]
  },
  {
   "cell_type": "code",
   "execution_count": null,
   "metadata": {
    "collapsed": true
   },
   "outputs": [],
   "source": [
    "print(features_column_names)\n",
    "print(features_dtype)"
   ]
  }
 ],
 "metadata": {
  "kernelspec": {
   "display_name": "Python 2",
   "language": "python",
   "name": "python2"
  },
  "language_info": {
   "codemirror_mode": {
    "name": "ipython",
    "version": 2
   },
   "file_extension": ".py",
   "mimetype": "text/x-python",
   "name": "python",
   "nbconvert_exporter": "python",
   "pygments_lexer": "ipython2",
   "version": "2.7.13"
  }
 },
 "nbformat": 4,
 "nbformat_minor": 2
}
